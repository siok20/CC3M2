{
 "cells": [
  {
   "cell_type": "code",
   "execution_count": 7,
   "metadata": {},
   "outputs": [],
   "source": [
    "import matplotlib.pyplot as plt\n",
    "import numpy as np"
   ]
  },
  {
   "cell_type": "code",
   "execution_count": null,
   "metadata": {},
   "outputs": [],
   "source": [
    "def fibonacci(n:int):\n",
    "    if n<0:\n",
    "        return -1\n",
    "\n",
    "    if n==0  or n ==1:\n",
    "        return 1\n",
    "    \n",
    "    t1 = 1\n",
    "    t2 = 1\n",
    "\n",
    "    for i in range(2,n+1):\n",
    "        tn = t1 + t2\n",
    "        t1 = t2\n",
    "        t2 = tn\n",
    "\n",
    "    return tn\n",
    "\n",
    "#for i in range(10):\n",
    "#    print(fibonacci(i))"
   ]
  },
  {
   "cell_type": "code",
   "execution_count": 12,
   "metadata": {},
   "outputs": [
    {
     "data": {
      "text/plain": [
       "0"
      ]
     },
     "execution_count": 12,
     "metadata": {},
     "output_type": "execute_result"
    }
   ],
   "source": [
    "def fiboSearch(array, target):\n",
    "    if array[-1] == target:\n",
    "        return len(array)-1\n",
    "\n",
    "    current =0\n",
    "    offset = -1\n",
    "\n",
    "    fibm2 = 0\n",
    "    fibm1 = 1\n",
    "    fibm= fibm2 + fibm1\n",
    "\n",
    "    while fibm < len(array):\n",
    "        fibm2 = fibm1\n",
    "        fibm1 = fibm\n",
    "        fibm = fibm1 + fibm2\n",
    "\n",
    "    while fibm > 1:\n",
    "        if array[current] == target:\n",
    "            return current\n",
    "        \n",
    "        current = min(fibm2 + offset, len(array)-1)\n",
    "\n",
    "        if array[current] < target:\n",
    "            offset = current\n",
    "\n",
    "        fibm = fibm1\n",
    "        fibm1 = fibm2\n",
    "        fibm2 = fibm - fibm1\n",
    "\n",
    "    return -1   \n",
    "\n",
    "arr = [10, 22, 35, 40, 45, 50,\n",
    "       80, 82, 85, 90, 100,235]   \n",
    "\n",
    "\n",
    "target = 10\n",
    "\n",
    "fiboSearch(arr, target)\n",
    "\n",
    "\n",
    "    "
   ]
  },
  {
   "cell_type": "code",
   "execution_count": null,
   "metadata": {},
   "outputs": [],
   "source": []
  }
 ],
 "metadata": {
  "kernelspec": {
   "display_name": "Python 3",
   "language": "python",
   "name": "python3"
  },
  "language_info": {
   "codemirror_mode": {
    "name": "ipython",
    "version": 3
   },
   "file_extension": ".py",
   "mimetype": "text/x-python",
   "name": "python",
   "nbconvert_exporter": "python",
   "pygments_lexer": "ipython3",
   "version": "3.11.7"
  }
 },
 "nbformat": 4,
 "nbformat_minor": 2
}
