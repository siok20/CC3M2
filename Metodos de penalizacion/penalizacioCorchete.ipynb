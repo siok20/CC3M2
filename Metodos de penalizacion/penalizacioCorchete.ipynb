{
 "cells": [
  {
   "cell_type": "code",
   "execution_count": 52,
   "metadata": {},
   "outputs": [],
   "source": [
    "import numpy as np\n",
    "from scipy.optimize import minimize"
   ]
  },
  {
   "cell_type": "code",
   "execution_count": 53,
   "metadata": {},
   "outputs": [],
   "source": [
    "def f(x):\n",
    "    return np.power(x[0]-4,2) + np.power(x[1]-4,2)\n",
    "\n",
    "def h(x):\n",
    "    return x[0] + x[1] - 5\n",
    "    "
   ]
  },
  {
   "cell_type": "code",
   "execution_count": 54,
   "metadata": {},
   "outputs": [],
   "source": [
    "def penalizacionCorchete(f, h, x ,u = 0.5, b= 2, e = 0.01):\n",
    "    while True: \n",
    "        def F(x):\n",
    "            return f(x) + u * np.power(h(x),2)\n",
    "            \n",
    "        xk = minimize(F, x).x\n",
    "        print(xk)\n",
    "\n",
    "        if u * np.power(h(xk),2) < e:\n",
    "            print(u)\n",
    "            return xk\n",
    "        else:\n",
    "            u = b * u\n",
    "            x = xk"
   ]
  },
  {
   "cell_type": "code",
   "execution_count": 55,
   "metadata": {},
   "outputs": [
    {
     "name": "stdout",
     "output_type": "stream",
     "text": [
      "[3.24999999 3.24999999]\n",
      "[3.         3.00000001]\n",
      "[2.8 2.8]\n",
      "[2.66666667 2.66666666]\n",
      "[2.5882353  2.58823529]\n",
      "[2.54545454 2.54545454]\n",
      "[2.52307692 2.52307692]\n",
      "[2.5116279 2.5116279]\n",
      "[2.50583657 2.50583657]\n",
      "[2.50292397 2.50292397]\n",
      "256.0\n",
      "[2.50292397 2.50292397]\n",
      "0.005847945912046626\n",
      "4.482473261499555\n"
     ]
    }
   ],
   "source": [
    "x = penalizacionCorchete(f,h, [4,1])\n",
    "print(x)\n",
    "\n",
    "print(h(x))\n",
    "print(f(x))"
   ]
  }
 ],
 "metadata": {
  "kernelspec": {
   "display_name": "Python 3",
   "language": "python",
   "name": "python3"
  },
  "language_info": {
   "codemirror_mode": {
    "name": "ipython",
    "version": 3
   },
   "file_extension": ".py",
   "mimetype": "text/x-python",
   "name": "python",
   "nbconvert_exporter": "python",
   "pygments_lexer": "ipython3",
   "version": "3.11.7"
  }
 },
 "nbformat": 4,
 "nbformat_minor": 2
}
